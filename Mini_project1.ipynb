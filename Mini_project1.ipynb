{
  "cells": [
    {
      "cell_type": "markdown",
      "metadata": {
        "id": "O99ryCI64Xsq"
      },
      "source": [
        "**(a) Write a code from the scratch that learns unigram and bigram models on the training data as Python dictionaries. Report the perplexity of your unigram and bigram models on the both training data and test data.**"
      ]
    },
    {
      "cell_type": "code",
      "execution_count": null,
      "metadata": {
        "colab": {
          "base_uri": "https://localhost:8080/"
        },
        "id": "gxwSMfvu9vPl",
        "outputId": "eca958cb-17e3-43e9-ab17-726c5f9d13bc"
      },
      "outputs": [
        {
          "name": "stderr",
          "output_type": "stream",
          "text": [
            "[nltk_data] Downloading package brown to /root/nltk_data...\n",
            "[nltk_data]   Package brown is already up-to-date!\n"
          ]
        }
      ],
      "source": [
        "#Importing libraries\n",
        "import nltk\n",
        "nltk.download('brown')\n",
        "from nltk.corpus import brown\n",
        "import itertools\n",
        "import string\n",
        "import math\n",
        "import pandas as pd\n",
        "import random\n",
        "import collections"
      ]
    },
    {
      "cell_type": "code",
      "execution_count": null,
      "metadata": {
        "id": "wh12vmlt9xna"
      },
      "outputs": [],
      "source": [
        "brown.categories()"
      ]
    },
    {
      "cell_type": "code",
      "execution_count": null,
      "metadata": {
        "colab": {
          "base_uri": "https://localhost:8080/"
        },
        "id": "VjgjSDbD94NI",
        "outputId": "ace66d29-23be-4cb1-b87d-885718fd33c8"
      },
      "outputs": [
        {
          "data": {
            "text/plain": [
              "57340"
            ]
          },
          "execution_count": 201,
          "metadata": {},
          "output_type": "execute_result"
        }
      ],
      "source": [
        "len(brown.sents())"
      ]
    },
    {
      "cell_type": "markdown",
      "metadata": {
        "id": "0JcyXcWNg8rM"
      },
      "source": [
        "Splitting the dataset"
      ]
    },
    {
      "cell_type": "code",
      "execution_count": null,
      "metadata": {
        "id": "VXiuG-a2fVOK"
      },
      "outputs": [],
      "source": [
        "dataset = [sentence for sentence in brown.sents()]\n",
        "#Splitting the data\n",
        "d_train = dataset[0:40138]\n",
        "d_vald = dataset[40139:45873]\n",
        "d_test = dataset[45874:]"
      ]
    },
    {
      "cell_type": "code",
      "execution_count": null,
      "metadata": {
        "colab": {
          "base_uri": "https://localhost:8080/"
        },
        "id": "y6aOMKNTfrAE",
        "outputId": "edf360fe-5a63-4dce-f40e-2f07291382f8"
      },
      "outputs": [
        {
          "output_type": "stream",
          "name": "stdout",
          "text": [
            "Total corpus for training data :  890689\n"
          ]
        }
      ],
      "source": [
        "# Total no.of tokens in training data for unigram calculation\n",
        "d_t = list(itertools.chain.from_iterable(d_train))\n",
        "total_dtrain = len(d_t)\n",
        "print(\"Total corpus for training data : \", total_dtrain)"
      ]
    },
    {
      "cell_type": "markdown",
      "metadata": {
        "id": "2g7zxMaIgwIR"
      },
      "source": [
        "Preprocessing the data"
      ]
    },
    {
      "cell_type": "code",
      "execution_count": null,
      "metadata": {
        "id": "KPyqkHIn-CtO"
      },
      "outputs": [],
      "source": [
        "def preprocess_data(sents):\n",
        "    for i in range(len(sents)):\n",
        "        #print(sents[i])\n",
        "        sents[i] = [''.join(c for c in s if c not in string.punctuation) for s in sents[i]] # remove punctuations\n",
        "        sents[i] = [s for s in sents[i] if s] # removes empty strings\n",
        "        sents[i] = [word.lower() for word in sents[i]] # lower case\n",
        "        sents[i] += ['</s>', '</s>'] # Append </s> at the end of each sentence in the corpus\n",
        "        sents[i].insert(0, '<s>')  # Append <s> at the beginning of each sentence in the corpus\n",
        "        sents[i].insert(0, '<s>')  # Append <s> at the beginning of each sentence in the corpus\n",
        "    print(\"No of sentences in Corpus: \"+str(len(sents)))\n",
        "    return sents"
      ]
    },
    {
      "cell_type": "code",
      "execution_count": null,
      "metadata": {
        "colab": {
          "base_uri": "https://localhost:8080/"
        },
        "id": "TOjeNAif99s1",
        "outputId": "efba2238-4a10-478e-c7a2-77ebee0962cb"
      },
      "outputs": [
        {
          "output_type": "stream",
          "name": "stdout",
          "text": [
            "No of sentences in Corpus: 40138\n"
          ]
        }
      ],
      "source": [
        "d_train = preprocess_data(d_train)"
      ]
    },
    {
      "cell_type": "markdown",
      "metadata": {
        "id": "Y84u5TNsel5s"
      },
      "source": [
        "Total Vocabulary Size"
      ]
    },
    {
      "cell_type": "code",
      "execution_count": null,
      "metadata": {
        "id": "Yug59FZSelKx"
      },
      "outputs": [],
      "source": [
        "def vocab(dataset):\n",
        "    ds = set(itertools.chain.from_iterable(dataset))\n",
        "    # remove <s> and </s> from the vocabulary of the dataset\n",
        "    ds.remove('<s>')\n",
        "    ds.remove('</s>')\n",
        "    ds = list(ds)\n",
        "    ds.append('<s>')\n",
        "    ds.append('</s>')\n",
        "    return ds\n",
        "\n",
        "dtrn_vocab = vocab(d_train)"
      ]
    },
    {
      "cell_type": "code",
      "execution_count": null,
      "metadata": {
        "colab": {
          "base_uri": "https://localhost:8080/"
        },
        "id": "x-jyOR7jfMkJ",
        "outputId": "e66b3c8e-968c-4658-c2a7-81aba8c308c4"
      },
      "outputs": [
        {
          "output_type": "stream",
          "name": "stdout",
          "text": [
            "Vocabulary Size of training data:  42235\n"
          ]
        }
      ],
      "source": [
        "dtrn_vocab_size = len(dtrn_vocab)\n",
        "print(\"Vocabulary Size of training data: \", dtrn_vocab_size)"
      ]
    },
    {
      "cell_type": "markdown",
      "metadata": {
        "id": "XSHbc0ELhC-D"
      },
      "source": [
        "Frequency of unique words"
      ]
    },
    {
      "cell_type": "code",
      "execution_count": null,
      "metadata": {
        "id": "PhK7PCv8DlwG"
      },
      "outputs": [],
      "source": [
        "def cal_unique_freq(dataset):\n",
        "    bag_of_words = list(itertools.chain.from_iterable(dataset)) # change the nested list to one single list\n",
        "    corpus_word_count = 0 # No of words in the corpus excluding <s> and </s>.\n",
        "    #count the no. of times a word repeats in the corpus\n",
        "    count = {}\n",
        "    for word in bag_of_words:\n",
        "        if word in count :\n",
        "            count[word] += 1\n",
        "        else:\n",
        "            count[word] = 1\n",
        "        if word != '<s>' and word != '</s>':\n",
        "             corpus_word_count +=1\n",
        "            \n",
        "    unique_word_count = len(count) #number of unique words in the corpus\n",
        "    print(\"No of unique words in corpus : \"+ str(unique_word_count))\n",
        "    print(\"No of words in corpus: \"+ str(corpus_word_count))\n",
        "    return count"
      ]
    },
    {
      "cell_type": "code",
      "execution_count": null,
      "metadata": {
        "id": "DW_NFsPqE-kp"
      },
      "outputs": [],
      "source": [
        "unigram_freq = cal_unique_freq(d_train)\n",
        "#unigram_freq"
      ]
    },
    {
      "cell_type": "markdown",
      "metadata": {
        "id": "uxzaJunLhKkO"
      },
      "source": [
        "Unigram Model based on total token and word frequencies"
      ]
    },
    {
      "cell_type": "code",
      "execution_count": null,
      "metadata": {
        "id": "FoTaAaUQIVWd"
      },
      "outputs": [],
      "source": [
        "def cal_unigram_prob(word_freq, total_tokens):\n",
        "  unigram = {}\n",
        "  for w in word_freq:\n",
        "    unigram[w] = word_freq[w] /total_tokens\n",
        "  return unigram"
      ]
    },
    {
      "cell_type": "code",
      "execution_count": null,
      "metadata": {
        "id": "Fi6wleQHhZix"
      },
      "outputs": [],
      "source": [
        "unigram_probabilities = cal_unigram_prob(unigram_freq, total_dtrain)\n",
        "#unigram_probabilities"
      ]
    },
    {
      "cell_type": "markdown",
      "metadata": {
        "id": "Oqpx8wEWibcF"
      },
      "source": [
        "Bigram Model"
      ]
    },
    {
      "cell_type": "code",
      "execution_count": null,
      "metadata": {
        "id": "O5PG9cLKOgoa"
      },
      "outputs": [],
      "source": [
        "#Calculating the bigram frequencies of set of words\n",
        "def cal_bigram_freq(lines):\n",
        "    bigram_frequencies = dict()\n",
        "    for sentence in lines:\n",
        "        given_word = None\n",
        "        for word in sentence:\n",
        "            if given_word != None:\n",
        "                bigram_frequencies[(given_word, word)] = bigram_frequencies.get((given_word, word),0) + 1\n",
        "            given_word = word    \n",
        "    return bigram_frequencies"
      ]
    },
    {
      "cell_type": "code",
      "execution_count": null,
      "metadata": {
        "id": "f84b1MyCaepN"
      },
      "outputs": [],
      "source": [
        "bigram_freq = cal_bigram_freq(d_train)\n",
        "#bigram_freq"
      ]
    },
    {
      "cell_type": "code",
      "execution_count": null,
      "metadata": {
        "id": "PIIeh9x7k1bk"
      },
      "outputs": [],
      "source": [
        "# Calculating bigram probability\n",
        "def cal_bigram_prob(bigram_freq, unique_freq):\n",
        "    bigram_prob = dict() \n",
        "    for key in bigram_freq:\n",
        "        numerator = bigram_freq.get(key)\n",
        "        denominator = unique_freq.get(key[0]) # get the frequency of \"given word\" in the corpus.\n",
        "        if (numerator == 0 or denominator== 0):\n",
        "            bigram_prob[key] = 0\n",
        "        else:\n",
        "            bigram_prob[key] = float(numerator)/float(denominator)\n",
        "    return bigram_prob"
      ]
    },
    {
      "cell_type": "code",
      "execution_count": null,
      "metadata": {
        "id": "tai71zN1lz-C"
      },
      "outputs": [],
      "source": [
        "bigram_probabilities = cal_bigram_prob(bigram_freq,unigram_freq)\n",
        "#bigram_probabilities"
      ]
    },
    {
      "cell_type": "markdown",
      "metadata": {
        "id": "PAWuJx8Rn0Bh"
      },
      "source": [
        "Perplexity"
      ]
    },
    {
      "cell_type": "code",
      "execution_count": null,
      "metadata": {
        "colab": {
          "base_uri": "https://localhost:8080/"
        },
        "id": "x5sByJxq1b6-",
        "outputId": "02e72590-204b-498f-f8b8-b6dc772fa756"
      },
      "outputs": [
        {
          "output_type": "stream",
          "name": "stdout",
          "text": [
            "No of sentences in Corpus: 11466\n",
            "No of sentences in Corpus: 5734\n"
          ]
        }
      ],
      "source": [
        "#Preprocessing of test and validation data\n",
        "d_trn = list(itertools.chain.from_iterable(d_train))\n",
        "d_tst = preprocess_data(d_test)\n",
        "d_tst = list(itertools.chain.from_iterable(d_tst))\n",
        "d_val = preprocess_data(d_vald)\n",
        "d_val = list(itertools.chain.from_iterable(d_val))\n"
      ]
    },
    {
      "cell_type": "code",
      "execution_count": null,
      "metadata": {
        "id": "IscS9vLzoIUw"
      },
      "outputs": [],
      "source": [
        "# To calculate the perplexity\n",
        "def perplexity(ngrams, model):\n",
        "    perplexity = 0\n",
        "    N = 0\n",
        "    for word in ngrams:\n",
        "        N += 1\n",
        "        if(word in model):\n",
        "            perplexity = perplexity + math.log(model[word],2)        \n",
        "    perplexity = -(perplexity * 1/N )\n",
        "    return pow(2,perplexity)"
      ]
    },
    {
      "cell_type": "code",
      "execution_count": null,
      "metadata": {
        "colab": {
          "base_uri": "https://localhost:8080/"
        },
        "id": "GmiGHuFWyFb0",
        "outputId": "43bc26d9-3769-4263-e9f6-0d97572cfc6a"
      },
      "outputs": [
        {
          "output_type": "execute_result",
          "data": {
            "text/plain": [
              "730.130991189557"
            ]
          },
          "metadata": {},
          "execution_count": 303
        }
      ],
      "source": [
        "#Perplexity of unigram training data\n",
        "uni_train_perp = perplexity(d_trn, unigram_probabilities)\n",
        "uni_train_perp"
      ]
    },
    {
      "cell_type": "code",
      "execution_count": null,
      "metadata": {
        "colab": {
          "base_uri": "https://localhost:8080/"
        },
        "id": "tGEXHRE2tfEK",
        "outputId": "2d596a0a-5494-49f0-df76-6beb4bcf4008"
      },
      "outputs": [
        {
          "output_type": "execute_result",
          "data": {
            "text/plain": [
              "378.65046453661864"
            ]
          },
          "metadata": {},
          "execution_count": 304
        }
      ],
      "source": [
        "#Perplexity of unigram validation data\n",
        "uni_val_perp = perplexity(d_val, unigram_probabilities)\n",
        "uni_val_perp"
      ]
    },
    {
      "cell_type": "code",
      "execution_count": null,
      "metadata": {
        "colab": {
          "base_uri": "https://localhost:8080/"
        },
        "id": "mBfaUXV6tboZ",
        "outputId": "c4f4f730-1eda-42d0-97fb-c881bf24c6a4"
      },
      "outputs": [
        {
          "output_type": "execute_result",
          "data": {
            "text/plain": [
              "377.645417328154"
            ]
          },
          "metadata": {},
          "execution_count": 305
        }
      ],
      "source": [
        "#Perplexity of unigram test data\n",
        "uni_test_perp = perplexity(d_tst, unigram_probabilities)\n",
        "uni_test_perp"
      ]
    },
    {
      "cell_type": "code",
      "execution_count": null,
      "metadata": {
        "colab": {
          "base_uri": "https://localhost:8080/"
        },
        "id": "PhxoMpr4t5AY",
        "outputId": "31663cd5-58cd-4b50-a748-0eba145a243c"
      },
      "outputs": [
        {
          "output_type": "execute_result",
          "data": {
            "text/plain": [
              "49.87132625761988"
            ]
          },
          "metadata": {},
          "execution_count": 306
        }
      ],
      "source": [
        "#Perplexity of bigram training data\n",
        "\n",
        "#bigrams for training data\n",
        "bigrams_trn = list(zip(*[d_trn[i:] for i in range(2)]))\n",
        "bi_train_perp = perplexity(bigrams_trn, bigram_probabilities)\n",
        "bi_train_perp"
      ]
    },
    {
      "cell_type": "code",
      "execution_count": null,
      "metadata": {
        "colab": {
          "base_uri": "https://localhost:8080/"
        },
        "id": "OZF-U3lt0kw1",
        "outputId": "6f9f63a9-74b4-4f08-a019-8b14d5ed15d9"
      },
      "outputs": [
        {
          "output_type": "execute_result",
          "data": {
            "text/plain": [
              "12.276443909371919"
            ]
          },
          "metadata": {},
          "execution_count": 307
        }
      ],
      "source": [
        "#Perplexity of bigram validation data\n",
        "\n",
        "#bigrams for validation data\n",
        "bigrams_val = list(zip(*[d_val[i:] for i in range(2)]))\n",
        "bi_val_perp = perplexity(bigrams_val, bigram_probabilities)\n",
        "bi_val_perp"
      ]
    },
    {
      "cell_type": "code",
      "execution_count": null,
      "metadata": {
        "colab": {
          "base_uri": "https://localhost:8080/"
        },
        "id": "LvEv74FN3CNr",
        "outputId": "67c6acf8-bd66-4476-cb04-9e58d04e4fb5"
      },
      "outputs": [
        {
          "output_type": "execute_result",
          "data": {
            "text/plain": [
              "11.836979146604865"
            ]
          },
          "metadata": {},
          "execution_count": 308
        }
      ],
      "source": [
        "#Perplexity of bigram test data\n",
        "\n",
        "#bigrams for test data\n",
        "bigrams_tst = list(zip(*[d_tst[i:] for i in range(2)]))\n",
        "bi_tst_perp = perplexity(bigrams_tst, bigram_probabilities)\n",
        "bi_tst_perp"
      ]
    },
    {
      "cell_type": "markdown",
      "metadata": {
        "id": "ukjH3hJ53VNS"
      },
      "source": [
        "*Perplexity of Unigram on:* \n",
        "\n",
        ">*Training Data : 730.130991189557*\n",
        "\n",
        ">*Test Data : 377.645417328154*\n",
        "\n",
        "*Perplexity of Bigram on:*\n",
        "\n",
        "> *Training Data : 49.87132625761988*\n",
        "\n",
        "> *Test Data: 11.836979146604865*\n",
        "\n",
        "***Perplexity of upper n-gram models is lowest as they use the context. Lower the perplexity, better the model.***\n",
        "\n",
        "\n"
      ]
    },
    {
      "cell_type": "markdown",
      "metadata": {
        "id": "47lJOBD44GZc"
      },
      "source": [
        "**(b) Implement add-lambda smoothing method. With varying lambda values. Draw a curve that measures your perplexity change over different lambda values on the developing data.**"
      ]
    },
    {
      "cell_type": "code",
      "execution_count": null,
      "metadata": {
        "id": "MK5lDupd4DdG"
      },
      "outputs": [],
      "source": [
        "#Function to provide smoothened frequencies\n",
        "def add_l_smoothing(l, freq):\n",
        "  s_freq = dict()\n",
        "  for key in freq.keys():\n",
        "      if freq.get(key) == None:\n",
        "        s_freq[key] = l\n",
        "      else:\n",
        "        s_freq[key] = freq.get(key)+l\n",
        "  return s_freq"
      ]
    },
    {
      "cell_type": "markdown",
      "metadata": {
        "id": "C7POA1wMoXZj"
      },
      "source": [
        "Calculating perplexity for various lambda values"
      ]
    },
    {
      "cell_type": "code",
      "execution_count": null,
      "metadata": {
        "id": "XLXM3QarZZjZ"
      },
      "outputs": [],
      "source": [
        "lamda = [0.001,0.05,0.1,1,1.5,2,3,4] \n",
        "\n",
        "sfreq_bi = dict()\n",
        "sfreq_uni = dict()\n",
        "df = pd.DataFrame(columns=['lambda', 'perp_uni', 'perp_bi'])\n",
        "\n",
        "for l in lamda:\n",
        "  #Calculating smoothened frequencies\n",
        "  sfreq_uni = add_l_smoothing(l,unigram_freq)\n",
        "  sfreq_bi = add_l_smoothing(l,bigram_freq)\n",
        "\n",
        "  #Probablities for smoothened freq\n",
        "  sf_uni_prob = cal_unigram_prob(sfreq_uni, total_dtrain + l*dtrn_vocab_size)\n",
        "  sf_bi_prob = cal_bigram_prob(sfreq_bi,sfreq_uni)\n",
        "  \n",
        "  #Perplexity of the model on validation data\n",
        "  sf_uni_perp = perplexity(d_val, sf_uni_prob)\n",
        "  sf_bi_perp = perplexity(bigrams_val, sf_bi_prob)\n",
        "\n",
        "  #collecting lambda and perplexity values\n",
        "  df = df.append({'lambda': l ,'perp_uni': sf_uni_perp, 'perp_bi': sf_bi_perp}, ignore_index=True)\n"
      ]
    },
    {
      "cell_type": "code",
      "execution_count": null,
      "metadata": {
        "colab": {
          "base_uri": "https://localhost:8080/",
          "height": 300
        },
        "id": "WOhsjMZyZkv3",
        "outputId": "6f38d292-a14d-4dda-a4e0-2507390c347f"
      },
      "outputs": [
        {
          "output_type": "execute_result",
          "data": {
            "text/plain": [
              "   lambda    perp_uni    perp_bi\n",
              "0   0.001  378.655185  12.275033\n",
              "1   0.050  378.893797  12.207274\n",
              "2   0.100  379.151249  12.140793\n",
              "3   1.000  385.342376  11.239511\n",
              "4   1.500  389.527800  10.881067\n",
              "5   2.000  394.005223  10.579914\n",
              "6   3.000  403.511048  10.091096\n",
              "7   4.000  413.462074   9.702134"
            ],
            "text/html": [
              "\n",
              "  <div id=\"df-ab622ea6-82c5-4f65-8a5a-19051d4cf879\">\n",
              "    <div class=\"colab-df-container\">\n",
              "      <div>\n",
              "<style scoped>\n",
              "    .dataframe tbody tr th:only-of-type {\n",
              "        vertical-align: middle;\n",
              "    }\n",
              "\n",
              "    .dataframe tbody tr th {\n",
              "        vertical-align: top;\n",
              "    }\n",
              "\n",
              "    .dataframe thead th {\n",
              "        text-align: right;\n",
              "    }\n",
              "</style>\n",
              "<table border=\"1\" class=\"dataframe\">\n",
              "  <thead>\n",
              "    <tr style=\"text-align: right;\">\n",
              "      <th></th>\n",
              "      <th>lambda</th>\n",
              "      <th>perp_uni</th>\n",
              "      <th>perp_bi</th>\n",
              "    </tr>\n",
              "  </thead>\n",
              "  <tbody>\n",
              "    <tr>\n",
              "      <th>0</th>\n",
              "      <td>0.001</td>\n",
              "      <td>378.655185</td>\n",
              "      <td>12.275033</td>\n",
              "    </tr>\n",
              "    <tr>\n",
              "      <th>1</th>\n",
              "      <td>0.050</td>\n",
              "      <td>378.893797</td>\n",
              "      <td>12.207274</td>\n",
              "    </tr>\n",
              "    <tr>\n",
              "      <th>2</th>\n",
              "      <td>0.100</td>\n",
              "      <td>379.151249</td>\n",
              "      <td>12.140793</td>\n",
              "    </tr>\n",
              "    <tr>\n",
              "      <th>3</th>\n",
              "      <td>1.000</td>\n",
              "      <td>385.342376</td>\n",
              "      <td>11.239511</td>\n",
              "    </tr>\n",
              "    <tr>\n",
              "      <th>4</th>\n",
              "      <td>1.500</td>\n",
              "      <td>389.527800</td>\n",
              "      <td>10.881067</td>\n",
              "    </tr>\n",
              "    <tr>\n",
              "      <th>5</th>\n",
              "      <td>2.000</td>\n",
              "      <td>394.005223</td>\n",
              "      <td>10.579914</td>\n",
              "    </tr>\n",
              "    <tr>\n",
              "      <th>6</th>\n",
              "      <td>3.000</td>\n",
              "      <td>403.511048</td>\n",
              "      <td>10.091096</td>\n",
              "    </tr>\n",
              "    <tr>\n",
              "      <th>7</th>\n",
              "      <td>4.000</td>\n",
              "      <td>413.462074</td>\n",
              "      <td>9.702134</td>\n",
              "    </tr>\n",
              "  </tbody>\n",
              "</table>\n",
              "</div>\n",
              "      <button class=\"colab-df-convert\" onclick=\"convertToInteractive('df-ab622ea6-82c5-4f65-8a5a-19051d4cf879')\"\n",
              "              title=\"Convert this dataframe to an interactive table.\"\n",
              "              style=\"display:none;\">\n",
              "        \n",
              "  <svg xmlns=\"http://www.w3.org/2000/svg\" height=\"24px\"viewBox=\"0 0 24 24\"\n",
              "       width=\"24px\">\n",
              "    <path d=\"M0 0h24v24H0V0z\" fill=\"none\"/>\n",
              "    <path d=\"M18.56 5.44l.94 2.06.94-2.06 2.06-.94-2.06-.94-.94-2.06-.94 2.06-2.06.94zm-11 1L8.5 8.5l.94-2.06 2.06-.94-2.06-.94L8.5 2.5l-.94 2.06-2.06.94zm10 10l.94 2.06.94-2.06 2.06-.94-2.06-.94-.94-2.06-.94 2.06-2.06.94z\"/><path d=\"M17.41 7.96l-1.37-1.37c-.4-.4-.92-.59-1.43-.59-.52 0-1.04.2-1.43.59L10.3 9.45l-7.72 7.72c-.78.78-.78 2.05 0 2.83L4 21.41c.39.39.9.59 1.41.59.51 0 1.02-.2 1.41-.59l7.78-7.78 2.81-2.81c.8-.78.8-2.07 0-2.86zM5.41 20L4 18.59l7.72-7.72 1.47 1.35L5.41 20z\"/>\n",
              "  </svg>\n",
              "      </button>\n",
              "      \n",
              "  <style>\n",
              "    .colab-df-container {\n",
              "      display:flex;\n",
              "      flex-wrap:wrap;\n",
              "      gap: 12px;\n",
              "    }\n",
              "\n",
              "    .colab-df-convert {\n",
              "      background-color: #E8F0FE;\n",
              "      border: none;\n",
              "      border-radius: 50%;\n",
              "      cursor: pointer;\n",
              "      display: none;\n",
              "      fill: #1967D2;\n",
              "      height: 32px;\n",
              "      padding: 0 0 0 0;\n",
              "      width: 32px;\n",
              "    }\n",
              "\n",
              "    .colab-df-convert:hover {\n",
              "      background-color: #E2EBFA;\n",
              "      box-shadow: 0px 1px 2px rgba(60, 64, 67, 0.3), 0px 1px 3px 1px rgba(60, 64, 67, 0.15);\n",
              "      fill: #174EA6;\n",
              "    }\n",
              "\n",
              "    [theme=dark] .colab-df-convert {\n",
              "      background-color: #3B4455;\n",
              "      fill: #D2E3FC;\n",
              "    }\n",
              "\n",
              "    [theme=dark] .colab-df-convert:hover {\n",
              "      background-color: #434B5C;\n",
              "      box-shadow: 0px 1px 3px 1px rgba(0, 0, 0, 0.15);\n",
              "      filter: drop-shadow(0px 1px 2px rgba(0, 0, 0, 0.3));\n",
              "      fill: #FFFFFF;\n",
              "    }\n",
              "  </style>\n",
              "\n",
              "      <script>\n",
              "        const buttonEl =\n",
              "          document.querySelector('#df-ab622ea6-82c5-4f65-8a5a-19051d4cf879 button.colab-df-convert');\n",
              "        buttonEl.style.display =\n",
              "          google.colab.kernel.accessAllowed ? 'block' : 'none';\n",
              "\n",
              "        async function convertToInteractive(key) {\n",
              "          const element = document.querySelector('#df-ab622ea6-82c5-4f65-8a5a-19051d4cf879');\n",
              "          const dataTable =\n",
              "            await google.colab.kernel.invokeFunction('convertToInteractive',\n",
              "                                                     [key], {});\n",
              "          if (!dataTable) return;\n",
              "\n",
              "          const docLinkHtml = 'Like what you see? Visit the ' +\n",
              "            '<a target=\"_blank\" href=https://colab.research.google.com/notebooks/data_table.ipynb>data table notebook</a>'\n",
              "            + ' to learn more about interactive tables.';\n",
              "          element.innerHTML = '';\n",
              "          dataTable['output_type'] = 'display_data';\n",
              "          await google.colab.output.renderOutput(dataTable, element);\n",
              "          const docLink = document.createElement('div');\n",
              "          docLink.innerHTML = docLinkHtml;\n",
              "          element.appendChild(docLink);\n",
              "        }\n",
              "      </script>\n",
              "    </div>\n",
              "  </div>\n",
              "  "
            ]
          },
          "metadata": {},
          "execution_count": 311
        }
      ],
      "source": [
        "df"
      ]
    },
    {
      "cell_type": "code",
      "execution_count": null,
      "metadata": {
        "colab": {
          "base_uri": "https://localhost:8080/",
          "height": 312
        },
        "id": "U-l6V4apjJTg",
        "outputId": "4c46e33f-3802-4bcb-8385-6bc6750fc2cc"
      },
      "outputs": [
        {
          "output_type": "execute_result",
          "data": {
            "text/plain": [
              "<matplotlib.axes._subplots.AxesSubplot at 0x7f0bd12edf90>"
            ]
          },
          "metadata": {},
          "execution_count": 312
        },
        {
          "output_type": "display_data",
          "data": {
            "text/plain": [
              "<Figure size 432x288 with 1 Axes>"
            ],
            "image/png": "[encoded data removed]"
          },
          "metadata": {
            "needs_background": "light"
          }
        }
      ],
      "source": [
        "# plotting the graph for different values of lambda and their respective perplexity for unigram model\n",
        "\n",
        "df.plot(x='lambda', y='perp_uni', xlabel= 'Lambda', ylabel = 'Perplexity', title = \"Perplexity of Unigram Model with different values of lambda\")"
      ]
    },
    {
      "cell_type": "code",
      "execution_count": null,
      "metadata": {
        "colab": {
          "base_uri": "https://localhost:8080/",
          "height": 312
        },
        "id": "nAqhXeswoC5o",
        "outputId": "ebd22617-1597-4ab0-fa53-76c354bd690b"
      },
      "outputs": [
        {
          "output_type": "execute_result",
          "data": {
            "text/plain": [
              "<matplotlib.axes._subplots.AxesSubplot at 0x7f0bd1241b10>"
            ]
          },
          "metadata": {},
          "execution_count": 313
        },
        {
          "output_type": "display_data",
          "data": {
            "text/plain": [
              "<Figure size 432x288 with 1 Axes>"
            ],
            "image/png": "[encoded data removed]"
          },
          "metadata": {
            "needs_background": "light"
          }
        }
      ],
      "source": [
        "# plotting the graph for different values of lambda and their respective perplexity for bigram model\n",
        "\n",
        "df.plot(x='lambda', y='perp_bi', xlabel= 'Lambda', ylabel = 'Perplexity', title = \"Perplexity of Bigram Model with different values of lambda\")"
      ]
    },
    {
      "cell_type": "markdown",
      "metadata": {
        "id": "TkWue8Z4ophY"
      },
      "source": [
        "**(c) Pick the best lambda value(s) and train again your unigram and bigram models on training  data + developing data. Report new perplexity of your unigram and bigram models on the test data.**"
      ]
    },
    {
      "cell_type": "markdown",
      "metadata": {
        "id": "zCL3lN9Yo5ss"
      },
      "source": [
        "We will consider lambda value as 0.001 for Unigram model and 4.000 for Bigram model.\n"
      ]
    },
    {
      "cell_type": "code",
      "execution_count": null,
      "metadata": {
        "colab": {
          "base_uri": "https://localhost:8080/"
        },
        "id": "aWAJygEpopKZ",
        "outputId": "0cb4f7da-3868-4e15-96ed-45517efcde9c"
      },
      "outputs": [
        {
          "output_type": "stream",
          "name": "stdout",
          "text": [
            "Total corpus for training + validation data before preprocessing :  979662\n",
            "No of sentences in Corpus: 45873\n",
            "Vocabulary Size of training + validation data:  44143\n"
          ]
        }
      ],
      "source": [
        "# merge the training and validation data\n",
        "d_trn_val = dataset[0:45873]\n",
        "\n",
        "# Total no.of tokens in dataset for unigram calculation\n",
        "tok_trn_val = list(itertools.chain.from_iterable(d_trn_val))\n",
        "tot_tok_trn_val = len(tok_trn_val)\n",
        "print(\"Total corpus for training + validation data before preprocessing : \", tot_tok_trn_val)\n",
        "\n",
        "#Preprocess data\n",
        "d_trnval_pre = preprocess_data(d_trn_val)\n",
        "data_trn_val = list(itertools.chain.from_iterable(d_trnval_pre))\n",
        "\n",
        "#Vocabulary size\n",
        "dtrnval_vocab = vocab(d_trn_val)\n",
        "dtrnval_vocab_size = len(dtrnval_vocab)\n",
        "print(\"Vocabulary Size of training + validation data: \", dtrnval_vocab_size)\n"
      ]
    },
    {
      "cell_type": "code",
      "execution_count": null,
      "metadata": {
        "colab": {
          "base_uri": "https://localhost:8080/"
        },
        "id": "xHpkk66Atcvi",
        "outputId": "c474be45-96a6-408a-e9cb-5d78fa1ea151"
      },
      "outputs": [
        {
          "output_type": "stream",
          "name": "stdout",
          "text": [
            "No of unique words in corpus : 44143\n",
            "No of words in corpus: 860874\n"
          ]
        }
      ],
      "source": [
        "# Unigram and Bigram frequencies for new dataset\n",
        "nds_unigram_freq = cal_unique_freq(d_trnval_pre)\n",
        "nds_bigram_freq = cal_bigram_freq(d_trnval_pre)\n",
        "\n",
        "#Bigrams for new dataset\n",
        "bigrams_trnval = list(zip(*[data_trn_val[i:] for i in range(2)]))"
      ]
    },
    {
      "cell_type": "code",
      "execution_count": null,
      "metadata": {
        "id": "tJn9BWNJsA7E"
      },
      "outputs": [],
      "source": [
        "#Calculating smoothened frequencies\n",
        "suni_f = add_l_smoothing(0.001, nds_unigram_freq)\n",
        "sbi_f = add_l_smoothing(4, nds_bigram_freq)\n",
        "\n",
        "#Probablities for smoothened freq\n",
        "suni_prob = cal_unigram_prob(suni_f, tot_tok_trn_val + 0.001 * dtrnval_vocab_size)\n",
        "sbi_prob = cal_bigram_prob(sbi_f,suni_f)\n",
        "\n",
        "#Perplexity of the model on validation data\n",
        "suni_perp = perplexity(data_trn_val, suni_prob)\n",
        "sbi_perp = perplexity(bigrams_trnval, sbi_prob)"
      ]
    },
    {
      "cell_type": "code",
      "execution_count": null,
      "metadata": {
        "colab": {
          "base_uri": "https://localhost:8080/"
        },
        "id": "P48OtDENvzXR",
        "outputId": "1202f6d9-ae9a-4320-9d1a-51b2f5e5e2d4"
      },
      "outputs": [
        {
          "output_type": "stream",
          "name": "stdout",
          "text": [
            "Perplexity of unigram model with add-lambda smoothing with lambda value 0.001 :  707.9696504676833\n",
            "Perplexity of bigram model with add-lambda smoothing with lambda value 4 :  25.578520927761602\n"
          ]
        }
      ],
      "source": [
        "print(\"Perplexity of unigram model with add-lambda smoothing with lambda value 0.001 : \",suni_perp )\n",
        "print(\"Perplexity of bigram model with add-lambda smoothing with lambda value 4 : \",sbi_perp )"
      ]
    },
    {
      "cell_type": "code",
      "execution_count": null,
      "metadata": {
        "colab": {
          "base_uri": "https://localhost:8080/"
        },
        "id": "voDgtDDPwBln",
        "outputId": "aed8f5bd-6e7b-4808-e8c9-ec357464ebb2"
      },
      "outputs": [
        {
          "output_type": "stream",
          "name": "stdout",
          "text": [
            "Perplexity of unigram model on test data:  370.5289096515584\n",
            "Perplexity of bigram model on test data:  10.050012234591009\n"
          ]
        }
      ],
      "source": [
        "# Perplexity on test data for both models\n",
        "\n",
        "#Perplexity of unigram test data\n",
        "uni_test_perp = perplexity(d_tst, suni_prob)\n",
        "print(\"Perplexity of unigram model on test data: \", uni_test_perp)\n",
        "\n",
        "#Perplexity of bigrams test data\n",
        "bi_val_perp = perplexity(bigrams_tst, sbi_prob)\n",
        "print(\"Perplexity of bigram model on test data: \", bi_val_perp)"
      ]
    },
    {
      "cell_type": "markdown",
      "metadata": {
        "id": "5J2R8qv0xMHk"
      },
      "source": [
        "***Perplexity of unigram model on test data:  370.5289096515584***\n",
        "\n",
        "***Perplexity of bigram model on test data:  10.050012234591009***\n",
        "\n",
        "***Perplexity is lower with add-lambda smoothing than before.***"
      ]
    },
    {
      "cell_type": "markdown",
      "metadata": {
        "id": "6kVzItkzyS77"
      },
      "source": [
        "**(d) Generate random sentences based on the unigram and bigram language models from part(c). Report 5 sentences per model by sampling words from each model continuously until meeting the stop symbol <\\s>.**"
      ]
    },
    {
      "cell_type": "code",
      "execution_count": null,
      "metadata": {
        "id": "nuEgf8fULO5v"
      },
      "outputs": [],
      "source": [
        "#Function to get the context and counter for ngram models\n",
        "def get_context_counter(freq, n):\n",
        "  context = {}\n",
        "  ngram_counter = {}\n",
        "\n",
        "  for ngram in freq.keys():\n",
        "        if ngram in ngram_counter:\n",
        "            ngram_counter[ngram] += 1.0\n",
        "        else:\n",
        "            ngram_counter[ngram] = 1.0\n",
        "        if n == 2:\n",
        "          prev_words, target_word = ngram\n",
        "        elif n == 3:\n",
        "          prev_words = ngram[0:2]\n",
        "          target_word = ngram[2]\n",
        "        if prev_words in context:\n",
        "            context[prev_words].append(target_word)\n",
        "        else:\n",
        "            context[prev_words] = [target_word]\n",
        "  return context, ngram_counter"
      ]
    },
    {
      "cell_type": "code",
      "execution_count": null,
      "metadata": {
        "id": "XrgpKAoQNsf0"
      },
      "outputs": [],
      "source": [
        "#Given a context, function fetches the next word to append to a sequence\n",
        "def random_token(word, prob, context, n):\n",
        "  r = random.random()\n",
        "  map_to_probs = {}\n",
        "  if n > 2:\n",
        "    token_of_interest = context[word] \n",
        "    for token in token_of_interest:\n",
        "        ngram = word + (token,)\n",
        "        map_to_probs[token] = prob.get(ngram)\n",
        "  else:\n",
        "    for i in word:\n",
        "      token_of_interest = context[i] \n",
        "      given_word = i\n",
        "    for token in token_of_interest:\n",
        "        map_to_probs[token] = prob.get((given_word, token))\n",
        "\n",
        "  summ = 0\n",
        "  for token in sorted(map_to_probs):\n",
        "        summ += map_to_probs[token]\n",
        "        if summ > r:\n",
        "            return token"
      ]
    },
    {
      "cell_type": "code",
      "execution_count": null,
      "metadata": {
        "id": "taebHMZvP8dC"
      },
      "outputs": [],
      "source": [
        "#Generate a sentence with token_count = number of words\n",
        "def generate_text(n, prob, context):\n",
        "  context_queue = (n-1) * ['<s>']\n",
        "  result = []\n",
        "  obj = \"\"\n",
        "  while obj != '</s>':\n",
        "      if n > 2:\n",
        "        obj = random_token(tuple(context_queue), prob, context, n)\n",
        "      else:\n",
        "        obj = random_token(context_queue, prob, context, n)\n",
        "      if (obj != '</s>' and obj != '<s>'):\n",
        "        result.append(obj)\n",
        "      if n > 1:\n",
        "          context_queue.pop(0)\n",
        "          #if obj == '</s>':\n",
        "          #    context_queue = (n - 1) * ['<s>']\n",
        "          #else:\n",
        "          context_queue.append(obj)\n",
        "  return ' '.join(result)"
      ]
    },
    {
      "cell_type": "code",
      "execution_count": null,
      "metadata": {
        "colab": {
          "base_uri": "https://localhost:8080/"
        },
        "id": "hxzG7F43Uh3N",
        "outputId": "92b7d84b-c385-4217-939e-233c37bcc57d"
      },
      "outputs": [
        {
          "output_type": "stream",
          "name": "stdout",
          "text": [
            "0  :  it is a direction by barth and discrete\n",
            "1  :  2 1859\n",
            "2  :  during the material\n",
            "3  :  electric\n",
            "4  :  anaconda and fosdick as 128 a compliment\n"
          ]
        }
      ],
      "source": [
        "#Generate 5 sentences for bigram\n",
        "context_sbi, counter_sbi = get_context_counter(sbi_f, 2)\n",
        "\n",
        "for i in range(0,5):\n",
        "  sentence = generate_text(2, sbi_prob, context_sbi)\n",
        "  print(i,\" : \", sentence)\n"
      ]
    },
    {
      "cell_type": "code",
      "execution_count": null,
      "metadata": {
        "id": "G4gj3-qzHtaq"
      },
      "outputs": [],
      "source": [
        "# For Unigram\n",
        "\n",
        "def next(dict):\n",
        "    total = 0\n",
        "    for key, value in dict.items():\n",
        "        total += float(value)\n",
        "    random_probability = random.uniform(0, total)       # create random number\n",
        "    temp = 0\n",
        "    for word, probability in dict.items():\n",
        "        if temp + float(probability) > random_probability: # When you reach the random number take the word.\n",
        "            return word\n",
        "        temp += float(probability)  \n",
        "\n",
        "def generate_sent_uni(dict):\n",
        "    sentence =[]\n",
        "    generated_word = ''\n",
        "    while (generated_word != '</s>' and generated_word != '<s>'):\n",
        "      generated_word = next(dict)\n",
        "      if (generated_word != '</s>' and generated_word != '<s>'):\n",
        "        sentence.append(generated_word)\n",
        "    \n",
        "    return ' '.join(sentence)\n"
      ]
    },
    {
      "cell_type": "code",
      "execution_count": null,
      "metadata": {
        "colab": {
          "base_uri": "https://localhost:8080/"
        },
        "id": "oizaMjLlbSCD",
        "outputId": "66889351-90f0-4ea2-b32b-7a3b201a7843"
      },
      "outputs": [
        {
          "output_type": "stream",
          "name": "stdout",
          "text": [
            "0  :  which is the he in\n",
            "1  :  them strong\n",
            "2  :  faust intentions control derails distance\n",
            "3  :  in collection culture reverend went fabrics brushes lead the firsthand\n",
            "4  :  since of\n"
          ]
        }
      ],
      "source": [
        "#Generate 5 sentences for unigram\n",
        "for i in range(0,5):\n",
        "  sentence = generate_sent_uni(suni_prob)\n",
        "  print(i,\" : \", sentence)\n"
      ]
    },
    {
      "cell_type": "markdown",
      "metadata": {
        "id": "jjQ44roexHzs"
      },
      "source": [
        "**(e) Choose at least one additional extension to implement. The available options are tri-gram, Good-Turing smoothing, interpolation method, and creative handling of unknownwords. Verify quantitative improvement by measuring 1) the perplexity on test data; andqualitative improvement by retrying 2) the random sentence generation in part (d).**"
      ]
    },
    {
      "cell_type": "markdown",
      "metadata": {
        "id": "7Jsg0q2rdsAO"
      },
      "source": [
        "We chose to implement the **trigram model** as an extension."
      ]
    },
    {
      "cell_type": "code",
      "execution_count": null,
      "metadata": {
        "id": "-9L_J-kE1frb"
      },
      "outputs": [],
      "source": [
        "#Calculating the trigram frequencies of set of words\n",
        "def cal_trigram_freq(lines):\n",
        "    trigram_frequencies = dict()\n",
        "    for sentence in lines:\n",
        "        given_word = None\n",
        "        prev_given_word = None\n",
        "        for word in sentence:\n",
        "            if prev_given_word != None:\n",
        "              if given_word != None:\n",
        "                  trigram_frequencies[(prev_given_word, given_word, word)] = trigram_frequencies.get((prev_given_word, given_word, word),0) + 1\n",
        "                  prev_given_word = given_word\n",
        "                  given_word = word\n",
        "              else:\n",
        "                  given_word = word\n",
        "            else:\n",
        "              prev_given_word = word  \n",
        "    return trigram_frequencies"
      ]
    },
    {
      "cell_type": "code",
      "execution_count": null,
      "metadata": {
        "id": "PuLknI7cCl3Y"
      },
      "outputs": [],
      "source": [
        "tri_f = cal_trigram_freq(d_trnval_pre)"
      ]
    },
    {
      "cell_type": "code",
      "execution_count": null,
      "metadata": {
        "id": "DSlOwpHIoVdV"
      },
      "outputs": [],
      "source": [
        "#Calculating trigram probabilities\n",
        "def cal_trigram_prob(tri_freq, bi_freq):\n",
        "  trigram_model = dict()\n",
        "  for pair, count in tri_freq.items():\n",
        "    bigram_pair = pair[0:2]\n",
        "    trigram_model[pair] = count / bi_freq[bigram_pair]\n",
        "  sorted_z = sorted(trigram_model.items(), key=lambda kv: kv[1])\n",
        "  sorted_model_trigram = collections.OrderedDict(sorted_z)\n",
        "  return sorted_model_trigram"
      ]
    },
    {
      "cell_type": "code",
      "execution_count": null,
      "metadata": {
        "id": "TO1NDtr5rIrC"
      },
      "outputs": [],
      "source": [
        "tri_prob = cal_trigram_prob(tri_f, nds_bigram_freq)"
      ]
    },
    {
      "cell_type": "code",
      "execution_count": null,
      "metadata": {
        "colab": {
          "base_uri": "https://localhost:8080/"
        },
        "id": "ioShzGAXsQwx",
        "outputId": "c6914b75-1c85-4839-c8f5-6e5815e791c3"
      },
      "outputs": [
        {
          "output_type": "execute_result",
          "data": {
            "text/plain": [
              "5.190404218992427"
            ]
          },
          "metadata": {},
          "execution_count": 343
        }
      ],
      "source": [
        "# Perplexity of Trigram model on training data\n",
        "trigrams_trn = list(zip(*[data_trn_val[i:] for i in range(3)]))\n",
        "tri_trn_perp = perplexity(trigrams_trn, tri_prob)\n",
        "tri_trn_perp\n"
      ]
    },
    {
      "cell_type": "code",
      "execution_count": null,
      "metadata": {
        "colab": {
          "base_uri": "https://localhost:8080/"
        },
        "id": "4NP0iNuKjaqv",
        "outputId": "ea68533f-7385-434b-c2d1-a5bca476f251"
      },
      "outputs": [
        {
          "output_type": "execute_result",
          "data": {
            "text/plain": [
              "2.1930950498971473"
            ]
          },
          "metadata": {},
          "execution_count": 344
        }
      ],
      "source": [
        "# Perplexity of Trigram model on test data\n",
        "trigrams_tst = list(zip(*[d_tst[i:] for i in range(3)]))\n",
        "tri_tst_perp = perplexity(trigrams_tst, tri_prob)\n",
        "tri_tst_perp"
      ]
    },
    {
      "cell_type": "markdown",
      "metadata": {
        "id": "myy76xDjj_ZM"
      },
      "source": [
        "Perplexity of Trigram model on Training Data : 5.190404218992427 \\\n",
        "Perplexity of Trigram model on Test Data: 2.1930950498971473"
      ]
    },
    {
      "cell_type": "markdown",
      "metadata": {
        "id": "-PVEkfdbkABf"
      },
      "source": [
        "**Add-lambda Smoothing for Trigram Model**"
      ]
    },
    {
      "cell_type": "code",
      "execution_count": null,
      "metadata": {
        "id": "n4uZ1FCej-lX"
      },
      "outputs": [],
      "source": [
        "lamda = [0.001,0.05,0.1,1,1.5,2,3,4] \n",
        "\n",
        "sfreq_tri = dict()\n",
        "df1 = pd.DataFrame(columns=['lambda', 'perp_tri'])\n",
        "\n",
        "for l in lamda:\n",
        "  #Calculating smoothened frequencies\n",
        "  sfreq_tri = add_l_smoothing(l,tri_f)\n",
        "  sfreq_bi = add_l_smoothing(l,nds_bigram_freq)\n",
        "\n",
        "  #Probablities for smoothened freq\n",
        "  sf_tri_prob = cal_trigram_prob(sfreq_tri, sfreq_bi)\n",
        "  \n",
        "  #Perplexity of the model on validation data\n",
        "  sf_tri_perp = perplexity(trigrams_trn, sf_tri_prob)\n",
        "\n",
        "  #collecting lambda and perplexity values\n",
        "  df1 = df1.append({'lambda': l ,'perp_tri': sf_tri_perp}, ignore_index=True)"
      ]
    },
    {
      "cell_type": "code",
      "execution_count": null,
      "metadata": {
        "colab": {
          "base_uri": "https://localhost:8080/",
          "height": 300
        },
        "id": "JRkhkU_vm_SQ",
        "outputId": "f79a161d-6ddc-4089-8596-8231feb2e287"
      },
      "outputs": [
        {
          "output_type": "execute_result",
          "data": {
            "text/plain": [
              "   lambda  perp_tri\n",
              "0   0.001  5.188757\n",
              "1   0.050  5.110716\n",
              "2   0.100  5.036065\n",
              "3   1.000  4.184017\n",
              "4   1.500  3.912467\n",
              "5   2.000  3.707363\n",
              "6   3.000  3.412086\n",
              "7   4.000  3.205107"
            ],
            "text/html": [
              "\n",
              "  <div id=\"df-089eb1b4-74fd-4a65-8d47-3700d0c7c441\">\n",
              "    <div class=\"colab-df-container\">\n",
              "      <div>\n",
              "<style scoped>\n",
              "    .dataframe tbody tr th:only-of-type {\n",
              "        vertical-align: middle;\n",
              "    }\n",
              "\n",
              "    .dataframe tbody tr th {\n",
              "        vertical-align: top;\n",
              "    }\n",
              "\n",
              "    .dataframe thead th {\n",
              "        text-align: right;\n",
              "    }\n",
              "</style>\n",
              "<table border=\"1\" class=\"dataframe\">\n",
              "  <thead>\n",
              "    <tr style=\"text-align: right;\">\n",
              "      <th></th>\n",
              "      <th>lambda</th>\n",
              "      <th>perp_tri</th>\n",
              "    </tr>\n",
              "  </thead>\n",
              "  <tbody>\n",
              "    <tr>\n",
              "      <th>0</th>\n",
              "      <td>0.001</td>\n",
              "      <td>5.188757</td>\n",
              "    </tr>\n",
              "    <tr>\n",
              "      <th>1</th>\n",
              "      <td>0.050</td>\n",
              "      <td>5.110716</td>\n",
              "    </tr>\n",
              "    <tr>\n",
              "      <th>2</th>\n",
              "      <td>0.100</td>\n",
              "      <td>5.036065</td>\n",
              "    </tr>\n",
              "    <tr>\n",
              "      <th>3</th>\n",
              "      <td>1.000</td>\n",
              "      <td>4.184017</td>\n",
              "    </tr>\n",
              "    <tr>\n",
              "      <th>4</th>\n",
              "      <td>1.500</td>\n",
              "      <td>3.912467</td>\n",
              "    </tr>\n",
              "    <tr>\n",
              "      <th>5</th>\n",
              "      <td>2.000</td>\n",
              "      <td>3.707363</td>\n",
              "    </tr>\n",
              "    <tr>\n",
              "      <th>6</th>\n",
              "      <td>3.000</td>\n",
              "      <td>3.412086</td>\n",
              "    </tr>\n",
              "    <tr>\n",
              "      <th>7</th>\n",
              "      <td>4.000</td>\n",
              "      <td>3.205107</td>\n",
              "    </tr>\n",
              "  </tbody>\n",
              "</table>\n",
              "</div>\n",
              "      <button class=\"colab-df-convert\" onclick=\"convertToInteractive('df-089eb1b4-74fd-4a65-8d47-3700d0c7c441')\"\n",
              "              title=\"Convert this dataframe to an interactive table.\"\n",
              "              style=\"display:none;\">\n",
              "        \n",
              "  <svg xmlns=\"http://www.w3.org/2000/svg\" height=\"24px\"viewBox=\"0 0 24 24\"\n",
              "       width=\"24px\">\n",
              "    <path d=\"M0 0h24v24H0V0z\" fill=\"none\"/>\n",
              "    <path d=\"M18.56 5.44l.94 2.06.94-2.06 2.06-.94-2.06-.94-.94-2.06-.94 2.06-2.06.94zm-11 1L8.5 8.5l.94-2.06 2.06-.94-2.06-.94L8.5 2.5l-.94 2.06-2.06.94zm10 10l.94 2.06.94-2.06 2.06-.94-2.06-.94-.94-2.06-.94 2.06-2.06.94z\"/><path d=\"M17.41 7.96l-1.37-1.37c-.4-.4-.92-.59-1.43-.59-.52 0-1.04.2-1.43.59L10.3 9.45l-7.72 7.72c-.78.78-.78 2.05 0 2.83L4 21.41c.39.39.9.59 1.41.59.51 0 1.02-.2 1.41-.59l7.78-7.78 2.81-2.81c.8-.78.8-2.07 0-2.86zM5.41 20L4 18.59l7.72-7.72 1.47 1.35L5.41 20z\"/>\n",
              "  </svg>\n",
              "      </button>\n",
              "      \n",
              "  <style>\n",
              "    .colab-df-container {\n",
              "      display:flex;\n",
              "      flex-wrap:wrap;\n",
              "      gap: 12px;\n",
              "    }\n",
              "\n",
              "    .colab-df-convert {\n",
              "      background-color: #E8F0FE;\n",
              "      border: none;\n",
              "      border-radius: 50%;\n",
              "      cursor: pointer;\n",
              "      display: none;\n",
              "      fill: #1967D2;\n",
              "      height: 32px;\n",
              "      padding: 0 0 0 0;\n",
              "      width: 32px;\n",
              "    }\n",
              "\n",
              "    .colab-df-convert:hover {\n",
              "      background-color: #E2EBFA;\n",
              "      box-shadow: 0px 1px 2px rgba(60, 64, 67, 0.3), 0px 1px 3px 1px rgba(60, 64, 67, 0.15);\n",
              "      fill: #174EA6;\n",
              "    }\n",
              "\n",
              "    [theme=dark] .colab-df-convert {\n",
              "      background-color: #3B4455;\n",
              "      fill: #D2E3FC;\n",
              "    }\n",
              "\n",
              "    [theme=dark] .colab-df-convert:hover {\n",
              "      background-color: #434B5C;\n",
              "      box-shadow: 0px 1px 3px 1px rgba(0, 0, 0, 0.15);\n",
              "      filter: drop-shadow(0px 1px 2px rgba(0, 0, 0, 0.3));\n",
              "      fill: #FFFFFF;\n",
              "    }\n",
              "  </style>\n",
              "\n",
              "      <script>\n",
              "        const buttonEl =\n",
              "          document.querySelector('#df-089eb1b4-74fd-4a65-8d47-3700d0c7c441 button.colab-df-convert');\n",
              "        buttonEl.style.display =\n",
              "          google.colab.kernel.accessAllowed ? 'block' : 'none';\n",
              "\n",
              "        async function convertToInteractive(key) {\n",
              "          const element = document.querySelector('#df-089eb1b4-74fd-4a65-8d47-3700d0c7c441');\n",
              "          const dataTable =\n",
              "            await google.colab.kernel.invokeFunction('convertToInteractive',\n",
              "                                                     [key], {});\n",
              "          if (!dataTable) return;\n",
              "\n",
              "          const docLinkHtml = 'Like what you see? Visit the ' +\n",
              "            '<a target=\"_blank\" href=https://colab.research.google.com/notebooks/data_table.ipynb>data table notebook</a>'\n",
              "            + ' to learn more about interactive tables.';\n",
              "          element.innerHTML = '';\n",
              "          dataTable['output_type'] = 'display_data';\n",
              "          await google.colab.output.renderOutput(dataTable, element);\n",
              "          const docLink = document.createElement('div');\n",
              "          docLink.innerHTML = docLinkHtml;\n",
              "          element.appendChild(docLink);\n",
              "        }\n",
              "      </script>\n",
              "    </div>\n",
              "  </div>\n",
              "  "
            ]
          },
          "metadata": {},
          "execution_count": 346
        }
      ],
      "source": [
        "df1"
      ]
    },
    {
      "cell_type": "code",
      "execution_count": null,
      "metadata": {
        "colab": {
          "base_uri": "https://localhost:8080/",
          "height": 312
        },
        "id": "plIxJWiCrCzv",
        "outputId": "4b5c69d4-ac13-4341-da15-1779bce7fb27"
      },
      "outputs": [
        {
          "output_type": "execute_result",
          "data": {
            "text/plain": [
              "<matplotlib.axes._subplots.AxesSubplot at 0x7f0bd1ee3050>"
            ]
          },
          "metadata": {},
          "execution_count": 347
        },
        {
          "output_type": "display_data",
          "data": {
            "text/plain": [
              "<Figure size 432x288 with 1 Axes>"
            ],
            "image/png": "[encoded data removed]"
          },
          "metadata": {
            "needs_background": "light"
          }
        }
      ],
      "source": [
        "# plotting the graph for different values of lambda and their respective perplexity for unigram model\n",
        "\n",
        "df1.plot(x='lambda', y='perp_tri', xlabel= 'Lambda', ylabel = 'Perplexity', title = \"Perplexity of Trigram Model with different values of lambda\")"
      ]
    },
    {
      "cell_type": "markdown",
      "metadata": {
        "id": "_3LKpnbqpGn7"
      },
      "source": [
        "Taking lambda as 4, training the model again"
      ]
    },
    {
      "cell_type": "code",
      "execution_count": null,
      "metadata": {
        "colab": {
          "base_uri": "https://localhost:8080/"
        },
        "id": "v5m_eUcxpFic",
        "outputId": "f9ce01d6-ceab-4709-ba63-35d45df7ebfa"
      },
      "outputs": [
        {
          "output_type": "stream",
          "name": "stdout",
          "text": [
            "Perplexity of training data :  3.205107107157687\n"
          ]
        }
      ],
      "source": [
        "#Calculating smoothened frequencies\n",
        "sbi_f = add_l_smoothing(4, nds_bigram_freq)\n",
        "stri_f = add_l_smoothing(4,tri_f)\n",
        "\n",
        "#Probablities for smoothened freq\n",
        "stri_prob = cal_trigram_prob(stri_f, sbi_f)\n",
        "\n",
        "#Perplexity of the model on training data\n",
        "sf_tri_trn_perp = perplexity(trigrams_trn, stri_prob)\n",
        "print(\"Perplexity of training data : \", sf_tri_trn_perp)"
      ]
    },
    {
      "cell_type": "code",
      "execution_count": null,
      "metadata": {
        "colab": {
          "base_uri": "https://localhost:8080/"
        },
        "id": "wR0uQzYaqPtJ",
        "outputId": "d9f40aad-c4a7-4d3f-99d6-337c0ee4faf8"
      },
      "outputs": [
        {
          "output_type": "stream",
          "name": "stdout",
          "text": [
            "Perplexity of test data :  2.1930950498971473\n"
          ]
        }
      ],
      "source": [
        "sf_tri_tst_perp = perplexity(trigrams_tst, stri_prob)\n",
        "print(\"Perplexity of test data : \",tri_tst_perp)"
      ]
    },
    {
      "cell_type": "markdown",
      "metadata": {
        "id": "cnTPPBIIq7uF"
      },
      "source": [
        "**Random Sentence generation by Trigram model**"
      ]
    },
    {
      "cell_type": "code",
      "source": [
        "#Generate 5 sentences for trigram\n",
        "context_stri, counter_stri = get_context_counter(stri_f, 3)\n",
        "\n",
        "for i in range(0,5):\n",
        "  sentence = generate_text(3, stri_prob, context_stri)\n",
        "  print(i,\" : \", sentence)\n"
      ],
      "metadata": {
        "colab": {
          "base_uri": "https://localhost:8080/"
        },
        "id": "kXFEyndjKIj3",
        "outputId": "a2c4a040-3387-448b-de8f-00db1865cf25"
      },
      "execution_count": null,
      "outputs": [
        {
          "output_type": "stream",
          "name": "stdout",
          "text": [
            "0  :  only an analogy\n",
            "1  :  gaylors obsession and cunninghams chimerachasing reminiscences had mesmerized him into downing bourbon\n",
            "2  :  ramsey 63 195 and 200 a day\n",
            "3  :  his articulate jewish friends convinced him that he encounters a couple in canada and australia\n",
            "4  :  ardent opinionated even obstinate they were anything else a concerto he has a certain degree of change begins\n"
          ]
        }
      ]
    }
  ],
  "metadata": {
    "colab": {
      "collapsed_sections": [],
      "provenance": []
    },
    "kernelspec": {
      "display_name": "Python 3",
      "name": "python3"
    },
    "language_info": {
      "name": "python"
    }
  },
  "nbformat": 4,
  "nbformat_minor": 0
}